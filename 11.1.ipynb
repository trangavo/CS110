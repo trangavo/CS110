{
 "cells": [
  {
   "cell_type": "code",
   "execution_count": 27,
   "metadata": {},
   "outputs": [
    {
     "name": "stdout",
     "output_type": "stream",
     "text": [
      "1 1\n",
      "2 5\n",
      "3 8\n",
      "4 10\n",
      "5 13\n",
      "6 17\n",
      "7 18\n",
      "8 22\n",
      "9 25\n",
      "10 30\n"
     ]
    }
   ],
   "source": [
    "# Recursive\n",
    "import math\n",
    "p = [1, 5, 8, 9, 10, 17, 17, 20, 24, 30]\n",
    "def cut_rod(p, n):\n",
    "    if n == 0:\n",
    "        return 0\n",
    "    q = -math.inf\n",
    "    for i in range(1, n+1):\n",
    "        if q < p[i-1] + cut_rod(p,n-i):\n",
    "            q = p[i-1] + cut_rod(p,n-i)\n",
    "    return q\n",
    "\n",
    "for n in range(1, 11):\n",
    "    print(n, cut_rod(p, n))\n",
    "    "
   ]
  },
  {
   "cell_type": "code",
   "execution_count": 15,
   "metadata": {},
   "outputs": [
    {
     "name": "stdout",
     "output_type": "stream",
     "text": [
      "1 (1, 1)\n",
      "2 (2, 5)\n",
      "3 (3, 8)\n",
      "4 (2, 10)\n",
      "5 (2, 13)\n",
      "6 (6, 17)\n",
      "7 (1, 18)\n",
      "8 (2, 22)\n",
      "9 (3, 25)\n",
      "10 (10, 30)\n"
     ]
    }
   ],
   "source": [
    "# Dynamic bottom up - optimal result\n",
    "import math\n",
    "p = [1, 5, 8, 9, 10, 17, 17, 20, 24, 30]\n",
    "def bottom_up_cut_rod(p, n):\n",
    "    r = [0 for i in range(n+1)]\n",
    "    s = [0 for i in range(n+1)]\n",
    "    for j in range(1, n+1):\n",
    "        q = -math.inf\n",
    "        for i in range(1, j+1):\n",
    "            if q < p[i-1]+r[j-i]:\n",
    "                q = p[i-1]+r[j-i]\n",
    "                s[j] = i\n",
    "        r[j] = q\n",
    "    return s[n], r[n]\n",
    "for n in range(1, 11):\n",
    "    print(n, bottom_up_cut_rod(p, n))\n"
   ]
  },
  {
   "cell_type": "code",
   "execution_count": null,
   "metadata": {},
   "outputs": [],
   "source": []
  }
 ],
 "metadata": {
  "kernelspec": {
   "display_name": "Python 3",
   "language": "python",
   "name": "python3"
  },
  "language_info": {
   "codemirror_mode": {
    "name": "ipython",
    "version": 3
   },
   "file_extension": ".py",
   "mimetype": "text/x-python",
   "name": "python",
   "nbconvert_exporter": "python",
   "pygments_lexer": "ipython3",
   "version": "3.6.8"
  }
 },
 "nbformat": 4,
 "nbformat_minor": 2
}
