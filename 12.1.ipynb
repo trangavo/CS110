{
 "cells": [
  {
   "cell_type": "code",
   "execution_count": 17,
   "metadata": {},
   "outputs": [
    {
     "data": {
      "text/plain": [
       "[3,\n",
       " 6.665729593181694,\n",
       " 25.062282567419512,\n",
       " 47.48375794731931,\n",
       " 235.52599097615996]"
      ]
     },
     "execution_count": 17,
     "metadata": {},
     "output_type": "execute_result"
    }
   ],
   "source": [
    "# currency trading\n",
    "import numpy as np\n",
    "rates = np.random.uniform(low=0, high=5, size=(30,))\n",
    "# rates = [1,2,3,4,5,6,7]\n",
    "def exchange(v, s, e):\n",
    "    values = [v]\n",
    "    for i in range(s, e):\n",
    "        values.append(values[i-s]*rates[i])\n",
    "    return values\n",
    "exchange(3,3,7)    "
   ]
  },
  {
   "cell_type": "code",
   "execution_count": null,
   "metadata": {},
   "outputs": [],
   "source": [
    "# money game\n"
   ]
  }
 ],
 "metadata": {
  "kernelspec": {
   "display_name": "Python 3",
   "language": "python",
   "name": "python3"
  },
  "language_info": {
   "codemirror_mode": {
    "name": "ipython",
    "version": 3
   },
   "file_extension": ".py",
   "mimetype": "text/x-python",
   "name": "python",
   "nbconvert_exporter": "python",
   "pygments_lexer": "ipython3",
   "version": "3.6.8"
  }
 },
 "nbformat": 4,
 "nbformat_minor": 2
}
