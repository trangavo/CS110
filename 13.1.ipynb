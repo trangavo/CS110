{
 "cells": [
  {
   "cell_type": "code",
   "execution_count": 23,
   "metadata": {},
   "outputs": [
    {
     "data": {
      "text/plain": [
       "(3.0, array([[ 1., -2., -1.],\n",
       "        [-1., -2., -2.],\n",
       "        [-1.,  1., -2.],\n",
       "        [-1., -1.,  1.]]))"
      ]
     },
     "execution_count": 23,
     "metadata": {},
     "output_type": "execute_result"
    }
   ],
   "source": [
    "import pylab\n",
    "def lsc_length(X, Y):\n",
    "    m = len(X)\n",
    "    n = len(Y)\n",
    "    c = pylab.zeros([m+1, n+1])\n",
    "    b = pylab.zeros([m, n])\n",
    "    for i in range(1, m+1):\n",
    "        for j in range(1, n+1):\n",
    "            if X[i-1] == Y[j-1]:\n",
    "                c[i][j] = c[i-1][j-1] + 1\n",
    "                b[i-1][j-1] = 1\n",
    "            else:\n",
    "                if c[i-1][j] >= c[i][j-1]:\n",
    "                    c[i][j] = c[i-1][j]\n",
    "                    b[i-1][j-1] = -1\n",
    "                else:\n",
    "                    c[j][j] = c[i][j-1]\n",
    "                    b[i-1][j-1] = -2\n",
    "    return c[m, n], b\n",
    "lsc_length(\"abcd\", \"acd\")\n",
    "                "
   ]
  },
  {
   "cell_type": "code",
   "execution_count": 29,
   "metadata": {},
   "outputs": [
    {
     "data": {
      "text/plain": [
       "'010101'"
      ]
     },
     "execution_count": 29,
     "metadata": {},
     "output_type": "execute_result"
    }
   ],
   "source": [
    "X = \"010110110\"\n",
    "Y = \"10010101\"\n",
    "\n",
    "sub = \"\"\n",
    "def subsequence(b, X, i, j, sub):\n",
    "    if i == 0 and j == 0:\n",
    "        if b[i][j] == 1:\n",
    "            sub += (X[i])\n",
    "        else:\n",
    "            return\n",
    "    elif i == 0:\n",
    "        if b[i][j] == 1:\n",
    "            sub += (X[i])\n",
    "        else:\n",
    "            sub = subsequence(b, X, i, j-1, sub)\n",
    "    elif j == 0:\n",
    "        if b[i][j] == 1:\n",
    "            sub += (X[i])\n",
    "        else:\n",
    "            sub = subsequence(b, X, i-1, j, sub)\n",
    "    else:\n",
    "        if b[i][j] == 1:\n",
    "            sub = subsequence(b, X, i-1, j-1, sub)\n",
    "            sub += (X[i])\n",
    "        elif b[i][j] == -1:\n",
    "            sub = subsequence(b, X, i-1, j, sub)\n",
    "        else:\n",
    "            sub = subsequence(b, X, i, j-1, sub)\n",
    "    return sub\n",
    "subsequence(lsc_length(X, Y)[1], X, 8, 7, sub)"
   ]
  },
  {
   "cell_type": "code",
   "execution_count": 33,
   "metadata": {},
   "outputs": [
    {
     "name": "stdout",
     "output_type": "stream",
     "text": [
      "a\n",
      "c\n",
      "d\n",
      "d\n",
      "d\n"
     ]
    },
    {
     "data": {
      "text/plain": [
       "(array([[0., 0., 0., 0.],\n",
       "        [0., 1., 0., 0.],\n",
       "        [0., 1., 1., 0.],\n",
       "        [0., 1., 2., 2.],\n",
       "        [0., 1., 2., 3.],\n",
       "        [0., 1., 2., 3.],\n",
       "        [0., 1., 2., 3.]]), array([[ 1., -2., -1.],\n",
       "        [-1., -2., -2.],\n",
       "        [-1.,  1., -2.],\n",
       "        [-1., -1.,  1.],\n",
       "        [-1., -1.,  1.],\n",
       "        [-1., -1.,  1.]]), 'acddd')"
      ]
     },
     "execution_count": 33,
     "metadata": {},
     "output_type": "execute_result"
    }
   ],
   "source": [
    "import pylab\n",
    "def lsc_length(X, Y):\n",
    "    m = len(X)\n",
    "    n = len(Y)\n",
    "    c = pylab.zeros([m+1, n+1])\n",
    "    b = pylab.zeros([m, n])\n",
    "    sub = \"\"\n",
    "    for i in range(1, m+1):\n",
    "        for j in range(1, n+1):\n",
    "            if X[i-1] == Y[j-1]:\n",
    "                c[i][j] = c[i-1][j-1] + 1\n",
    "                b[i-1][j-1] = 1\n",
    "                print(X[i-1])\n",
    "                sub = sub + X[i-1]\n",
    "            else:\n",
    "                if c[i-1][j] >= c[i][j-1]:\n",
    "                    c[i][j] = c[i-1][j]\n",
    "                    b[i-1][j-1] = -1\n",
    "                else:\n",
    "                    c[j][j] = c[i][j-1]\n",
    "                    b[i-1][j-1] = -2\n",
    "    return c, b, sub\n",
    "lsc_length(\"abcddd\", \"acd\")\n",
    "                "
   ]
  },
  {
   "cell_type": "code",
   "execution_count": null,
   "metadata": {},
   "outputs": [],
   "source": []
  },
  {
   "cell_type": "code",
   "execution_count": null,
   "metadata": {},
   "outputs": [],
   "source": []
  }
 ],
 "metadata": {
  "kernelspec": {
   "display_name": "Python 3",
   "language": "python",
   "name": "python3"
  },
  "language_info": {
   "codemirror_mode": {
    "name": "ipython",
    "version": 3
   },
   "file_extension": ".py",
   "mimetype": "text/x-python",
   "name": "python",
   "nbconvert_exporter": "python",
   "pygments_lexer": "ipython3",
   "version": "3.6.8"
  }
 },
 "nbformat": 4,
 "nbformat_minor": 2
}
